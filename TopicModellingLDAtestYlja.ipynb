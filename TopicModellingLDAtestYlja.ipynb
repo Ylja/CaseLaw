{
 "cells": [
  {
   "cell_type": "code",
   "execution_count": 4,
   "metadata": {
    "collapsed": false
   },
   "outputs": [],
   "source": [
    "from lxml import etree\n",
    "import re\n",
    "import os\n",
    "import sqlite3\n",
    "#import lda\n",
    "#from sklearn.feature_extraction.text import CountVectorizer\n",
    "import itertools\n",
    "import pandas as pd\n",
    "#import gensim\n",
    "import nltk"
   ]
  },
  {
   "cell_type": "code",
   "execution_count": 3,
   "metadata": {
    "collapsed": false
   },
   "outputs": [
    {
     "name": "stdout",
     "output_type": "stream",
     "text": [
      "showing info https://raw.githubusercontent.com/nltk/nltk_data/gh-pages/index.xml\n"
     ]
    },
    {
     "data": {
      "text/plain": [
       "True"
      ]
     },
     "execution_count": 3,
     "metadata": {},
     "output_type": "execute_result"
    }
   ],
   "source": [
    "nltk.download()"
   ]
  },
  {
   "cell_type": "code",
   "execution_count": 5,
   "metadata": {
    "collapsed": false
   },
   "outputs": [],
   "source": [
    "conn = sqlite3.connect('rechtspraak.db')\n",
    "c = conn.cursor()"
   ]
  },
  {
   "cell_type": "code",
   "execution_count": 6,
   "metadata": {
    "collapsed": false
   },
   "outputs": [],
   "source": [
    "rows = c.execute('SELECT id, text from uitspraken').fetchall()"
   ]
  },
  {
   "cell_type": "code",
   "execution_count": 7,
   "metadata": {
    "collapsed": false
   },
   "outputs": [],
   "source": [
    "#stemmer = nltk.stem.snowball.DutchStemmer(ignore_stopwords=True)\n",
    "def tokenize(text):\n",
    "    tokenized = nltk.word_tokenize(text)\n",
    "    #return [stemmer.stem(w) for w in tokenized if w.isalnum()]\n",
    "    #return [w for w in tokenized if w.isalnum()]\n",
    "    return [w for w in tokenized if not re.match( '[^a-zA-Z\\d\\s€]',w)]\n"
   ]
  },
  {
   "cell_type": "markdown",
   "metadata": {},
   "source": [
    "Gensim"
   ]
  },
  {
   "cell_type": "code",
   "execution_count": 8,
   "metadata": {
    "collapsed": true
   },
   "outputs": [],
   "source": [
    "texts = [tokenize(text) for id0, text in rows]"
   ]
  },
  {
   "cell_type": "code",
   "execution_count": 11,
   "metadata": {
    "collapsed": false
   },
   "outputs": [
    {
     "ename": "AttributeError",
     "evalue": "'FreqDist' object has no attribute 'inc'",
     "output_type": "error",
     "traceback": [
      "\u001b[0;31m-----------------------------------------------------------------------\u001b[0m",
      "\u001b[0;31mAttributeError\u001b[0m                        Traceback (most recent call last)",
      "\u001b[0;32m<ipython-input-11-c41c967ba326>\u001b[0m in \u001b[0;36m<module>\u001b[0;34m()\u001b[0m\n\u001b[1;32m      2\u001b[0m \u001b[0;32mfor\u001b[0m \u001b[0mtext\u001b[0m \u001b[0;32min\u001b[0m \u001b[0mtexts\u001b[0m\u001b[0;34m:\u001b[0m\u001b[0;34m\u001b[0m\u001b[0m\n\u001b[1;32m      3\u001b[0m     \u001b[0;32mfor\u001b[0m \u001b[0mword\u001b[0m \u001b[0;32min\u001b[0m \u001b[0mtext\u001b[0m\u001b[0;34m:\u001b[0m\u001b[0;34m\u001b[0m\u001b[0m\n\u001b[0;32m----> 4\u001b[0;31m         \u001b[0mfreqdist\u001b[0m\u001b[0;34m.\u001b[0m\u001b[0minc\u001b[0m\u001b[0;34m(\u001b[0m\u001b[0mword\u001b[0m\u001b[0;34m)\u001b[0m\u001b[0;34m\u001b[0m\u001b[0m\n\u001b[0m\u001b[1;32m      5\u001b[0m \u001b[0mprint\u001b[0m\u001b[0;34m(\u001b[0m\u001b[0mfreqdist\u001b[0m\u001b[0;34m.\u001b[0m\u001b[0mmost_common\u001b[0m\u001b[0;34m(\u001b[0m\u001b[0;36m50\u001b[0m\u001b[0;34m)\u001b[0m\u001b[0;34m)\u001b[0m\u001b[0;34m\u001b[0m\u001b[0m\n\u001b[1;32m      6\u001b[0m \u001b[0mprint\u001b[0m\u001b[0;34m(\u001b[0m\u001b[0mfreqdist\u001b[0m\u001b[0;34m.\u001b[0m\u001b[0mhapaxes\u001b[0m\u001b[0;34m(\u001b[0m\u001b[0;34m)\u001b[0m\u001b[0;34m)\u001b[0m\u001b[0;34m\u001b[0m\u001b[0m\n",
      "\u001b[0;31mAttributeError\u001b[0m: 'FreqDist' object has no attribute 'inc'"
     ]
    }
   ],
   "source": [
    "freqdist = nltk.FreqDist()\n",
    "for text in texts:\n",
    "    for word in text:\n",
    "        freqdist.inc(word)\n",
    "print(freqdist.most_common(50))\n",
    "print(freqdist.hapaxes())"
   ]
  },
  {
   "cell_type": "code",
   "execution_count": 31,
   "metadata": {
    "collapsed": false,
    "scrolled": true
   },
   "outputs": [
    {
     "name": "stdout",
     "output_type": "stream",
     "text": [
      "['1.De', 'considerans', ',', 'alsmede', 'de', 'artikelen', '2', ',', '4,5', 'en', '13', 'van', 'de', 'Richtlijn', '85/511/EEG', 'van', '18', 'november', '1985', 'van', 'de', 'Europese', 'Gemeenschappen', ',', 'zoals', 'gewijzigd', 'in', 'Richtlijn', '90/423', 'van', '26', 'juni', '1990', 'tot', 'vaststelling', 'van', 'gemeenschappelijke', 'maatregelen', 'ter', 'bestrijding', 'van', 'mond-', 'en', 'klauwzeer', ',', 'luiden', ',', 'voor', 'zover', 'hier', 'van', 'belang', ',', 'als', 'volgt', ':']\n"
     ]
    }
   ],
   "source": [
    "s = \"1.De considerans, alsmede de artikelen 2, 4,5 en 13 van de Richtlijn 85/511/EEG van 18 november 1985 van de Europese Gemeenschappen, zoals gewijzigd in Richtlijn 90/423 van 26 juni 1990 tot vaststelling van gemeenschappelijke maatregelen ter bestrijding van mond- en klauwzeer, luiden, voor zover hier van belang, als volgt:\"\n",
    "#stemmer.stem('23a')\n",
    "print(tokenize(s))"
   ]
  },
  {
   "cell_type": "code",
   "execution_count": null,
   "metadata": {
    "collapsed": true
   },
   "outputs": [],
   "source": []
  },
  {
   "cell_type": "code",
   "execution_count": 8,
   "metadata": {
    "collapsed": false
   },
   "outputs": [],
   "source": [
    "dictionary = gensim.corpora.Dictionary(texts)"
   ]
  },
  {
   "cell_type": "code",
   "execution_count": 9,
   "metadata": {
    "collapsed": false
   },
   "outputs": [],
   "source": [
    "# remove stop words and words that appear only once\n",
    "from six import iteritems\n",
    "min_count = 20\n",
    "max_features = 100000\n",
    "dictionary.filter_extremes(no_below=min_count, no_above=0.7, keep_n=max_features)"
   ]
  },
  {
   "cell_type": "code",
   "execution_count": 10,
   "metadata": {
    "collapsed": true
   },
   "outputs": [],
   "source": [
    "dictionary.compactify()  # remove gaps in id sequence after words that were removed"
   ]
  },
  {
   "cell_type": "code",
   "execution_count": 11,
   "metadata": {
    "collapsed": false
   },
   "outputs": [
    {
     "name": "stdout",
     "output_type": "stream",
     "text": [
      "Dictionary(12488 unique tokens: ['vervolgen', 'neerslag', 'juwelier', 'academisch', 'efficient']...)\n"
     ]
    }
   ],
   "source": [
    "print(dictionary)"
   ]
  },
  {
   "cell_type": "code",
   "execution_count": 22,
   "metadata": {
    "collapsed": true
   },
   "outputs": [],
   "source": [
    "dictionary.save('/tmp/dictionary.dict')"
   ]
  },
  {
   "cell_type": "code",
   "execution_count": 12,
   "metadata": {
    "collapsed": true
   },
   "outputs": [],
   "source": [
    "corpus = [dictionary.doc2bow(tokenize(text)) for id0, text in rows]"
   ]
  },
  {
   "cell_type": "code",
   "execution_count": 23,
   "metadata": {
    "collapsed": true
   },
   "outputs": [],
   "source": [
    "gensim.corpora.MmCorpus.serialize('/tmp/hr.mm', corpus)"
   ]
  },
  {
   "cell_type": "markdown",
   "metadata": {},
   "source": [
    "scipy"
   ]
  },
  {
   "cell_type": "code",
   "execution_count": 13,
   "metadata": {
    "collapsed": true
   },
   "outputs": [],
   "source": [
    "#vectorizer = CountVectorizer(max_df=0.8, tokenizer=tokenize)\n",
    "#vectorizer = CountVectorizer(max_df=0.8, min_df=10, max_features=100000)"
   ]
  },
  {
   "cell_type": "code",
   "execution_count": 14,
   "metadata": {
    "collapsed": false
   },
   "outputs": [],
   "source": [
    "#wordcounts = vectorizer.fit_transform((text for (id0, text) in rows))"
   ]
  },
  {
   "cell_type": "code",
   "execution_count": 15,
   "metadata": {
    "collapsed": false
   },
   "outputs": [],
   "source": [
    "#wordcounts.shape"
   ]
  },
  {
   "cell_type": "code",
   "execution_count": 16,
   "metadata": {
    "collapsed": false
   },
   "outputs": [],
   "source": [
    "#len(vectorizer.get_feature_names())"
   ]
  },
  {
   "cell_type": "code",
   "execution_count": 17,
   "metadata": {
    "collapsed": false
   },
   "outputs": [],
   "source": [
    "#corpus = gensim.matutils.Sparse2Corpus(wordcounts)"
   ]
  },
  {
   "cell_type": "code",
   "execution_count": 18,
   "metadata": {
    "collapsed": false
   },
   "outputs": [],
   "source": [
    "# featurenames = vectorizer.get_feature_names()\n",
    "# id2word = {i:featurenames[i] for i in range(len(featurenames))}\n",
    "# len(id2word.keys())"
   ]
  },
  {
   "cell_type": "code",
   "execution_count": 19,
   "metadata": {
    "collapsed": false
   },
   "outputs": [],
   "source": [
    "tfidf = gensim.models.TfidfModel(corpus, id2word=dictionary)\n",
    "corpus_tfidf = tfidf[corpus]"
   ]
  },
  {
   "cell_type": "code",
   "execution_count": 20,
   "metadata": {
    "collapsed": false
   },
   "outputs": [],
   "source": [
    "lsi = gensim.models.LsiModel(corpus_tfidf, id2word=dictionary, num_topics=200)\n",
    "corpus_lsi = lsi[corpus_tfidf]"
   ]
  },
  {
   "cell_type": "code",
   "execution_count": 21,
   "metadata": {
    "collapsed": false
   },
   "outputs": [
    {
     "data": {
      "text/plain": [
       "[(0,\n",
       "  '0.250*\"belanghebb\" + 0.214*\"eiser\" + 0.197*\"verdacht\" + 0.131*\"verweerder\" + 0.125*\"beschik\" + 0.124*\"aanslag\" + 0.090*\"inspecteur\" + 0.088*\"rechtbank\" + 0.084*\"ik\" + 0.082*\"klacht\"'),\n",
       " (1,\n",
       "  '0.475*\"eiser\" + -0.379*\"belanghebb\" + 0.243*\"verweerder\" + -0.222*\"aanslag\" + -0.160*\"volksverzeker\" + -0.135*\"inspecteur\" + -0.133*\"z\" + -0.128*\"x\" + -0.125*\"staatssecretaris\" + 0.125*\"verweerster\"'),\n",
       " (2,\n",
       "  '0.466*\"verdacht\" + -0.378*\"eiser\" + 0.227*\"ik\" + -0.181*\"verweerder\" + -0.156*\"belanghebb\" + 0.138*\"slachtoffer\" + 0.125*\"schriftur\" + -0.104*\"aanslag\" + 0.097*\"terechtzit\" + -0.093*\"verweerster\"'),\n",
       " (3,\n",
       "  '-0.262*\"klaarblijk\" + -0.237*\"2014\" + -0.233*\"2015\" + -0.218*\"80a\" + -0.181*\"verzoeker\" + -0.178*\"treur\" + -0.173*\"cassatieberoep\" + -0.166*\"th\" + -0.165*\"groeneveld\" + -0.160*\"organisatie\"'),\n",
       " (4,\n",
       "  '0.423*\"beschik\" + -0.379*\"eiser\" + 0.365*\"vrouw\" + 0.330*\"verzoeker\" + 0.330*\"man\" + 0.128*\"verzoekster\" + -0.103*\"klaarblijk\" + 0.099*\"cassatierekest\" + -0.097*\"2015\" + -0.097*\"2014\"')]"
      ]
     },
     "execution_count": 21,
     "metadata": {},
     "output_type": "execute_result"
    }
   ],
   "source": [
    "lsi.print_topics()"
   ]
  },
  {
   "cell_type": "code",
   "execution_count": 26,
   "metadata": {
    "collapsed": true
   },
   "outputs": [],
   "source": [
    "lsi.save('/tmp/model.lsi')"
   ]
  },
  {
   "cell_type": "code",
   "execution_count": 27,
   "metadata": {
    "collapsed": false
   },
   "outputs": [],
   "source": [
    "#ldamodel = gensim.models.ldamodel.LdaModel(corpus, num_topics=100, passes=20, id2word=id2word)\n",
    "ldamodel = gensim.models.ldamodel.LdaModel(corpus_tfidf, num_topics=100, passes=3, id2word=dictionary)\n",
    "corpus_lda = ldamodel[corpus]"
   ]
  },
  {
   "cell_type": "code",
   "execution_count": 28,
   "metadata": {
    "collapsed": false
   },
   "outputs": [
    {
     "data": {
      "text/plain": [
       "[(58,\n",
       "  '0.164*onroer + 0.134*waarder + 0.064*beschik + 0.036*grond + 0.033*wet + 0.020*z + 0.019*81 + 0.018*betreff + 0.018*x + 0.015*184'),\n",
       " (56,\n",
       "  '0.041*eer + 0.039*voorkeursrecht + 0.039*schenck + 0.032*verzwaard + 0.021*domein + 0.018*vervaltermijn + 0.014*185 + 0.014*gunn + 0.013*dm + 0.012*429'),\n",
       " (32,\n",
       "  '0.081*the + 0.031*to + 0.029*and + 0.021*or + 0.019*hasjiesj + 0.018*jeugdig + 0.014*zittingsplat + 0.013*that + 0.012*for + 0.011*brak'),\n",
       " (85,\n",
       "  '0.050*eiser + 0.032*hag + 0.028*verweerder + 0.024*eiseres + 0.021*verweerster + 0.020*schap + 0.015*verlop + 0.013*e + 0.012*aangeduid + 0.012*buruma'),\n",
       " (71,\n",
       "  '0.236*onroerendezaakbelast + 0.041*sluiting + 0.037*heropen + 0.036*vandag + 0.036*navorderingstermijn + 0.029*audi + 0.024*bell + 0.024*vught + 0.020*operatie + 0.019*tek'),\n",
       " (83,\n",
       "  '0.696*2014 + 0.058*2012 + 0.028*verweerschrift + 0.015*478 + 0.010*dexia + 0.007*belastingdruk + 0.006*klei + 0.006*wro + 0.006*rotterdam + 0.005*huwelijksgoederengemeenschap'),\n",
       " (39,\n",
       "  '0.025*bankafschrift + 0.023*verliet + 0.022*inleg + 0.020*awbz + 0.019*ziekt + 0.018*afrond + 0.018*invaliditeit + 0.017*gezinssituatie + 0.015*342 + 0.014*huurinkomst'),\n",
       " (60,\n",
       "  '0.067*goud + 0.025*accountantskantor + 0.019*eruit + 0.018*gebruiksrecht + 0.015*licentie + 0.014*voetbalclub + 0.014*giroreken + 0.011*mark + 0.010*beheermaatschappij + 0.008*weersprek'),\n",
       " (66,\n",
       "  '0.087*aangeefster + 0.070*huurovereenkomst + 0.064*hd + 0.035*huurder + 0.028*gevolmachtigd + 0.027*huurprijs + 0.024*gehuurd + 0.024*verhuurder + 0.023*octrooi + 0.021*hur'),\n",
       " (81,\n",
       "  '0.120*boet + 0.073*taakstraf + 0.041*motorrijtuigenbelast + 0.036*uren + 0.029*schol + 0.021*began + 0.017*sanctie + 0.016*meststoffenwet + 0.014*passend + 0.011*geintimeerd')]"
      ]
     },
     "execution_count": 28,
     "metadata": {},
     "output_type": "execute_result"
    }
   ],
   "source": [
    "ldamodel.print_topics()"
   ]
  },
  {
   "cell_type": "code",
   "execution_count": 29,
   "metadata": {
    "collapsed": false
   },
   "outputs": [],
   "source": [
    "ldamodel.save('/tmp/model.lda')"
   ]
  },
  {
   "cell_type": "code",
   "execution_count": null,
   "metadata": {
    "collapsed": true
   },
   "outputs": [],
   "source": []
  }
 ],
 "metadata": {
  "anaconda-cloud": {},
  "kernelspec": {
   "display_name": "Python 3",
   "language": "python",
   "name": "python3"
  },
  "language_info": {
   "codemirror_mode": {
    "name": "ipython",
    "version": 3
   },
   "file_extension": ".py",
   "mimetype": "text/x-python",
   "name": "python",
   "nbconvert_exporter": "python",
   "pygments_lexer": "ipython3",
   "version": "3.6.0"
  }
 },
 "nbformat": 4,
 "nbformat_minor": 0
}
